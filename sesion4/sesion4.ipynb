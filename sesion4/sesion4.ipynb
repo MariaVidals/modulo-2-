{
 "cells": [
  {
   "cell_type": "code",
   "execution_count": null,
   "metadata": {},
   "outputs": [],
   "source": []
  }
 ],
 "metadata": {
  "kernelspec": {
   "display_name": "Python 3.10.5 ('venv': venv)",
   "language": "python",
   "name": "python3"
  },
  "language_info": {
   "name": "python",
   "version": "3.10.5"
  },
  "orig_nbformat": 4,
  "vscode": {
   "interpreter": {
    "hash": "eb304cc5080e3b565538dfe2af839b81676d28b87fad06383053623caf42b4fd"
   }
  }
 },
 "nbformat": 4,
 "nbformat_minor": 2
}
